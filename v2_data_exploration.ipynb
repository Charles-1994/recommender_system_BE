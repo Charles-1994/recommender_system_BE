{
 "cells": [
  {
   "cell_type": "code",
   "execution_count": 4,
   "metadata": {},
   "outputs": [],
   "source": [
    "import pandas as pd\n",
    "import numpy as np\n",
    "import matplotlib.pyplot as plt"
   ]
  },
  {
   "cell_type": "code",
   "execution_count": 5,
   "metadata": {},
   "outputs": [],
   "source": [
    "import logging\n",
    "\n",
    "# Configure logging\n",
    "logging.basicConfig(\n",
    "    level=logging.INFO,\n",
    "    format='%(asctime)s - %(levelname)s - %(message)s',\n",
    "    datefmt='%Y-%m-%d %H:%M:%S'\n",
    ")\n",
    "\n",
    "# Create logger\n",
    "logger = logging.getLogger('data_exploration')\n"
   ]
  },
  {
   "cell_type": "code",
   "execution_count": 6,
   "metadata": {},
   "outputs": [
    {
     "name": "stderr",
     "output_type": "stream",
     "text": [
      "2025-02-23 17:18:28 - INFO - Loading datasets into pandas dataframes...\n"
     ]
    },
    {
     "data": {
      "text/plain": [
       "(   user_id country\n",
       " 0        0     USA\n",
       " 1        1     USA\n",
       " 2        2   Italy\n",
       " 3        3   Japan\n",
       " 4        4   Italy,\n",
       "    item_id category    hair   eyes\n",
       " 0        0    flirt     red   blue\n",
       " 1        1    dance   brown   blue\n",
       " 2        2       dj     red  brown\n",
       " 3        3    flirt  blonde  brown\n",
       " 4        4       dj     red  brown,\n",
       "    user_id  item_id   timestamp\n",
       " 0        0       34  1607590072\n",
       " 1        0       26  1607590260\n",
       " 2        0      187  1607590503\n",
       " 3        0       86  1607591006\n",
       " 4        0      111  1607591526)"
      ]
     },
     "execution_count": 6,
     "metadata": {},
     "output_type": "execute_result"
    }
   ],
   "source": [
    "def load_datasets():\n",
    "    \"\"\"Load all datasets from the datasets folder\"\"\"\n",
    "    logger.info(\"Loading datasets into pandas dataframes...\")\n",
    "    users_df = pd.read_csv('datasets/users.csv')\n",
    "    items_df = pd.read_csv('datasets/items.csv')\n",
    "    events_df = pd.read_csv('datasets/events.csv')\n",
    "\n",
    "    return users_df, items_df, events_df\n",
    "\n",
    "users_df, items_df, events_df = load_datasets()\n",
    "users_df.head(), items_df.head(), events_df.head()"
   ]
  },
  {
   "cell_type": "code",
   "execution_count": 15,
   "metadata": {},
   "outputs": [],
   "source": [
    "def plot_histogram(data, xlabel = \"Session Length (minutes)\", ylabel = \"Frequency\",title = \"Distribution of Session Lengths\"):\n",
    "    plt.figure(figsize=(10, 6))\n",
    "    plt.hist(data, bins=10, edgecolor='black')\n",
    "    plt.title(title)\n",
    "    plt.xlabel(xlabel)\n",
    "    plt.ylabel(ylabel)\n",
    "    plt.grid(True, alpha=0.3)\n",
    "\n",
    "    # Add mean and median lines\n",
    "    plt.axvline(data.mean(), color='red', linestyle='dashed', linewidth=1, label=f'Mean: {data.mean():.2f} mins')\n",
    "    plt.axvline(data.median(), color='green', linestyle='dashed', linewidth=1, label=f'Median: {data.median():.2f} mins')\n",
    "    plt.legend()\n",
    "    plt.show()\n",
    "\n",
    "    # Show some basic statistics\n",
    "    logger.info(\"Session Length Statistics:\")\n",
    "    print(data.describe())"
   ]
  },
  {
   "cell_type": "code",
   "execution_count": 8,
   "metadata": {},
   "outputs": [],
   "source": [
    "def remove_duplicates(df):\n",
    "    \"\"\"Remove duplicates items with the same session keeping the first records by time\"\"\"\n",
    "    df = (df.sort_values(['user_id', 'session_id', 'timestamp', 'item_id'])\n",
    "          .drop_duplicates(subset=['user_id', 'session_id', 'item_id'], keep='first')\n",
    "          .reset_index(drop=True))\n",
    "    return df\n",
    "\n",
    "def filter_multievent_sessions(df):\n",
    "\n",
    "    # Count events per session\n",
    "    session_counts = df.groupby(['user_id', 'session_id']).size().reset_index(name='event_count')\n",
    "\n",
    "    # Filter out sessions with only one event\n",
    "    df = df.merge(session_counts, on=['user_id', 'session_id'])\n",
    "    df = df[df['event_count'] > 1].drop(columns=['event_count'])\n",
    "    \n",
    "    return df\n",
    "\n",
    "\n",
    "def process_sessions(events):\n",
    "    \n",
    "    # Convert timestamp to datetime\n",
    "    events['datetime'] = pd.to_datetime(events['timestamp'], unit='s')\n",
    "    # Sort by user_id and timestamp\n",
    "    events = events.sort_values(by=[\"user_id\", \"timestamp\"])\n",
    "\n",
    "    # Calculate time difference between consecutive events\n",
    "    events['hours_since_last'] = events.groupby('user_id')['datetime'].diff().dt.total_seconds() / 3600\n",
    "\n",
    "    # Identify new sessions (time_diff > 8 hours)\n",
    "    events['new_session'] = (events['hours_since_last'] >= 8 ).fillna(True)\n",
    "\n",
    "    # Assign session IDs\n",
    "    events['session_counter'] = events.groupby('user_id')['new_session'].cumsum()\n",
    "    events['session_id'] = events['user_id'].astype(str)+'-'+events['session_counter'].astype(str)\n",
    "\n",
    "    events = remove_duplicates(events)\n",
    "    events = filter_multievent_sessions(events)\n",
    "\n",
    "    # Adding bounce flag column\n",
    "    events['bounce_flag'] = (events.groupby('session_id')['datetime']\n",
    "                            .transform('max') == events['datetime']).astype(int)\n",
    "\n",
    "    return events"
   ]
  },
  {
   "cell_type": "code",
   "execution_count": 9,
   "metadata": {},
   "outputs": [
    {
     "data": {
      "text/html": [
       "<div>\n",
       "<style scoped>\n",
       "    .dataframe tbody tr th:only-of-type {\n",
       "        vertical-align: middle;\n",
       "    }\n",
       "\n",
       "    .dataframe tbody tr th {\n",
       "        vertical-align: top;\n",
       "    }\n",
       "\n",
       "    .dataframe thead th {\n",
       "        text-align: right;\n",
       "    }\n",
       "</style>\n",
       "<table border=\"1\" class=\"dataframe\">\n",
       "  <thead>\n",
       "    <tr style=\"text-align: right;\">\n",
       "      <th></th>\n",
       "      <th>user_id</th>\n",
       "      <th>item_id</th>\n",
       "      <th>timestamp</th>\n",
       "      <th>datetime</th>\n",
       "      <th>hours_since_last</th>\n",
       "      <th>new_session</th>\n",
       "      <th>session_counter</th>\n",
       "      <th>session_id</th>\n",
       "      <th>bounce_flag</th>\n",
       "    </tr>\n",
       "  </thead>\n",
       "  <tbody>\n",
       "    <tr>\n",
       "      <th>0</th>\n",
       "      <td>0</td>\n",
       "      <td>34</td>\n",
       "      <td>1607590072</td>\n",
       "      <td>2020-12-10 08:47:52</td>\n",
       "      <td>NaN</td>\n",
       "      <td>False</td>\n",
       "      <td>0</td>\n",
       "      <td>0-0</td>\n",
       "      <td>0</td>\n",
       "    </tr>\n",
       "    <tr>\n",
       "      <th>1</th>\n",
       "      <td>0</td>\n",
       "      <td>26</td>\n",
       "      <td>1607590260</td>\n",
       "      <td>2020-12-10 08:51:00</td>\n",
       "      <td>0.052222</td>\n",
       "      <td>False</td>\n",
       "      <td>0</td>\n",
       "      <td>0-0</td>\n",
       "      <td>0</td>\n",
       "    </tr>\n",
       "    <tr>\n",
       "      <th>2</th>\n",
       "      <td>0</td>\n",
       "      <td>187</td>\n",
       "      <td>1607590503</td>\n",
       "      <td>2020-12-10 08:55:03</td>\n",
       "      <td>0.067500</td>\n",
       "      <td>False</td>\n",
       "      <td>0</td>\n",
       "      <td>0-0</td>\n",
       "      <td>0</td>\n",
       "    </tr>\n",
       "    <tr>\n",
       "      <th>3</th>\n",
       "      <td>0</td>\n",
       "      <td>86</td>\n",
       "      <td>1607591006</td>\n",
       "      <td>2020-12-10 09:03:26</td>\n",
       "      <td>0.139722</td>\n",
       "      <td>False</td>\n",
       "      <td>0</td>\n",
       "      <td>0-0</td>\n",
       "      <td>0</td>\n",
       "    </tr>\n",
       "    <tr>\n",
       "      <th>4</th>\n",
       "      <td>0</td>\n",
       "      <td>111</td>\n",
       "      <td>1607591526</td>\n",
       "      <td>2020-12-10 09:12:06</td>\n",
       "      <td>0.144444</td>\n",
       "      <td>False</td>\n",
       "      <td>0</td>\n",
       "      <td>0-0</td>\n",
       "      <td>0</td>\n",
       "    </tr>\n",
       "    <tr>\n",
       "      <th>...</th>\n",
       "      <td>...</td>\n",
       "      <td>...</td>\n",
       "      <td>...</td>\n",
       "      <td>...</td>\n",
       "      <td>...</td>\n",
       "      <td>...</td>\n",
       "      <td>...</td>\n",
       "      <td>...</td>\n",
       "      <td>...</td>\n",
       "    </tr>\n",
       "    <tr>\n",
       "      <th>15103</th>\n",
       "      <td>499</td>\n",
       "      <td>10</td>\n",
       "      <td>1608042115</td>\n",
       "      <td>2020-12-15 14:21:55</td>\n",
       "      <td>0.120278</td>\n",
       "      <td>False</td>\n",
       "      <td>2</td>\n",
       "      <td>499-2</td>\n",
       "      <td>0</td>\n",
       "    </tr>\n",
       "    <tr>\n",
       "      <th>15104</th>\n",
       "      <td>499</td>\n",
       "      <td>76</td>\n",
       "      <td>1608042367</td>\n",
       "      <td>2020-12-15 14:26:07</td>\n",
       "      <td>0.070000</td>\n",
       "      <td>False</td>\n",
       "      <td>2</td>\n",
       "      <td>499-2</td>\n",
       "      <td>0</td>\n",
       "    </tr>\n",
       "    <tr>\n",
       "      <th>15105</th>\n",
       "      <td>499</td>\n",
       "      <td>99</td>\n",
       "      <td>1608042850</td>\n",
       "      <td>2020-12-15 14:34:10</td>\n",
       "      <td>0.134167</td>\n",
       "      <td>False</td>\n",
       "      <td>2</td>\n",
       "      <td>499-2</td>\n",
       "      <td>0</td>\n",
       "    </tr>\n",
       "    <tr>\n",
       "      <th>15106</th>\n",
       "      <td>499</td>\n",
       "      <td>198</td>\n",
       "      <td>1608043346</td>\n",
       "      <td>2020-12-15 14:42:26</td>\n",
       "      <td>0.137778</td>\n",
       "      <td>False</td>\n",
       "      <td>2</td>\n",
       "      <td>499-2</td>\n",
       "      <td>0</td>\n",
       "    </tr>\n",
       "    <tr>\n",
       "      <th>15107</th>\n",
       "      <td>499</td>\n",
       "      <td>148</td>\n",
       "      <td>1608043470</td>\n",
       "      <td>2020-12-15 14:44:30</td>\n",
       "      <td>0.034444</td>\n",
       "      <td>False</td>\n",
       "      <td>2</td>\n",
       "      <td>499-2</td>\n",
       "      <td>1</td>\n",
       "    </tr>\n",
       "  </tbody>\n",
       "</table>\n",
       "<p>15070 rows × 9 columns</p>\n",
       "</div>"
      ],
      "text/plain": [
       "       user_id  item_id   timestamp            datetime  hours_since_last  \\\n",
       "0            0       34  1607590072 2020-12-10 08:47:52               NaN   \n",
       "1            0       26  1607590260 2020-12-10 08:51:00          0.052222   \n",
       "2            0      187  1607590503 2020-12-10 08:55:03          0.067500   \n",
       "3            0       86  1607591006 2020-12-10 09:03:26          0.139722   \n",
       "4            0      111  1607591526 2020-12-10 09:12:06          0.144444   \n",
       "...        ...      ...         ...                 ...               ...   \n",
       "15103      499       10  1608042115 2020-12-15 14:21:55          0.120278   \n",
       "15104      499       76  1608042367 2020-12-15 14:26:07          0.070000   \n",
       "15105      499       99  1608042850 2020-12-15 14:34:10          0.134167   \n",
       "15106      499      198  1608043346 2020-12-15 14:42:26          0.137778   \n",
       "15107      499      148  1608043470 2020-12-15 14:44:30          0.034444   \n",
       "\n",
       "       new_session  session_counter session_id  bounce_flag  \n",
       "0            False                0        0-0            0  \n",
       "1            False                0        0-0            0  \n",
       "2            False                0        0-0            0  \n",
       "3            False                0        0-0            0  \n",
       "4            False                0        0-0            0  \n",
       "...            ...              ...        ...          ...  \n",
       "15103        False                2      499-2            0  \n",
       "15104        False                2      499-2            0  \n",
       "15105        False                2      499-2            0  \n",
       "15106        False                2      499-2            0  \n",
       "15107        False                2      499-2            1  \n",
       "\n",
       "[15070 rows x 9 columns]"
      ]
     },
     "execution_count": 9,
     "metadata": {},
     "output_type": "execute_result"
    }
   ],
   "source": [
    "events_dedup = process_sessions(events_df)\n",
    "events_dedup"
   ]
  },
  {
   "cell_type": "markdown",
   "metadata": {},
   "source": [
    "### Total Number of sessions:"
   ]
  },
  {
   "cell_type": "code",
   "execution_count": 10,
   "metadata": {},
   "outputs": [
    {
     "name": "stdout",
     "output_type": "stream",
     "text": [
      "Total number of sessions with multiple events in a session:  1026\n"
     ]
    }
   ],
   "source": [
    "print(\"Total number of sessions with multiple events in a session: \",len(events_dedup.groupby('session_id')))"
   ]
  },
  {
   "cell_type": "markdown",
   "metadata": {},
   "source": [
    "### Average number of events per session:"
   ]
  },
  {
   "cell_type": "code",
   "execution_count": 11,
   "metadata": {},
   "outputs": [
    {
     "name": "stdout",
     "output_type": "stream",
     "text": [
      "\n",
      " Average number of events per session:  14.69\n"
     ]
    }
   ],
   "source": [
    "print(\"\\n Average number of events per session: \",events_dedup.groupby('session_id')['item_id'].count().mean().round(2))\n"
   ]
  },
  {
   "cell_type": "markdown",
   "metadata": {},
   "source": [
    "### Histogram of session lengths"
   ]
  },
  {
   "cell_type": "code",
   "execution_count": 16,
   "metadata": {},
   "outputs": [
    {
     "name": "stderr",
     "output_type": "stream",
     "text": [
      "2025-02-23 17:31:37 - INFO - 3. Plotting histogram of session lengths in minutes...\n"
     ]
    },
    {
     "data": {
      "image/png": "[encoded data removed]",
      "text/plain": [
       "<Figure size 1000x600 with 1 Axes>"
      ]
     },
     "metadata": {},
     "output_type": "display_data"
    },
    {
     "name": "stderr",
     "output_type": "stream",
     "text": [
      "2025-02-23 17:31:37 - INFO - Session Length Statistics:\n"
     ]
    },
    {
     "name": "stdout",
     "output_type": "stream",
     "text": [
      "count    1026.000000\n",
      "mean       83.559552\n",
      "std        85.400003\n",
      "min         0.466667\n",
      "25%        36.275000\n",
      "50%        73.116667\n",
      "75%       107.220833\n",
      "max       663.083333\n",
      "dtype: float64\n"
     ]
    }
   ],
   "source": [
    "session_lengths = (events_dedup.groupby('session_id')['datetime']\n",
    "                  .agg(['min', 'max'])\n",
    "                  .apply(lambda x: (x['max'] - x['min']).total_seconds() / 60, axis=1))\n",
    "logger.info(\"3. Plotting histogram of session lengths in minutes...\")\n",
    "plot_histogram(session_lengths)"
   ]
  },
  {
   "cell_type": "code",
   "execution_count": 17,
   "metadata": {},
   "outputs": [
    {
     "name": "stderr",
     "output_type": "stream",
     "text": [
      "2025-02-23 17:31:46 - INFO - Plotting histogram of session lengths in hours...\n"
     ]
    },
    {
     "data": {
      "image/png": "[encoded data removed]",
      "text/plain": [
       "<Figure size 1000x600 with 1 Axes>"
      ]
     },
     "metadata": {},
     "output_type": "display_data"
    },
    {
     "name": "stderr",
     "output_type": "stream",
     "text": [
      "2025-02-23 17:31:46 - INFO - Session Length Statistics:\n"
     ]
    },
    {
     "name": "stdout",
     "output_type": "stream",
     "text": [
      "count    1026.000000\n",
      "mean        1.392659\n",
      "std         1.423333\n",
      "min         0.007778\n",
      "25%         0.604583\n",
      "50%         1.218611\n",
      "75%         1.787014\n",
      "max        11.051389\n",
      "dtype: float64\n"
     ]
    }
   ],
   "source": [
    "# Calculate session length (in hours)\n",
    "session_lengths = (events_dedup.groupby('session_id')['datetime']\n",
    "                  .agg(['min', 'max'])\n",
    "                  .apply(lambda x: (x['max'] - x['min']).total_seconds() / 3600, axis=1))\n",
    "logger.info(\"Plotting histogram of session lengths in hours...\")\n",
    "plot_histogram(session_lengths, xlabel = \"Session Length (hours)\", title = \"Distribution of Session Lengths in Hours\")"
   ]
  },
  {
   "cell_type": "markdown",
   "metadata": {},
   "source": [
    "### Category with highest bounce rate"
   ]
  },
  {
   "cell_type": "code",
   "execution_count": 19,
   "metadata": {},
   "outputs": [
    {
     "name": "stderr",
     "output_type": "stream",
     "text": [
      "2025-02-23 17:32:28 - INFO - 4. Calculating the category with highest bounce rate...\n",
      "2025-02-23 17:32:28 - INFO - The category with highest bounce rate is: flirt\n"
     ]
    },
    {
     "name": "stdout",
     "output_type": "stream",
     "text": [
      "  category  Total_N_bounces\n",
      "0    flirt              355\n",
      "1    dance              353\n",
      "2       dj              318\n"
     ]
    }
   ],
   "source": [
    "logger.info(\"4. Calculating the category with highest bounce rate...\")\n",
    "bounce_items = events_dedup.loc[(events_dedup[\"bounce_flag\"] == 1),'item_id'].value_counts().reset_index(name=\"N_bounces\")\n",
    "bounce_cate = bounce_items.merge(items_df, on=\"item_id\").groupby('category')['N_bounces'].sum().reset_index(name=\"Total_N_bounces\")\n",
    "bounce_cate = bounce_cate.sort_values(\"Total_N_bounces\", ascending=False).reset_index(drop=True)\n",
    "print(bounce_cate)\n",
    "logger.info(f\"The category with highest bounce rate is: {bounce_cate.iloc[0]['category']}\")\n"
   ]
  },
  {
   "cell_type": "markdown",
   "metadata": {},
   "source": [
    "### Country with highest average visits per user"
   ]
  },
  {
   "cell_type": "code",
   "execution_count": 20,
   "metadata": {},
   "outputs": [
    {
     "name": "stderr",
     "output_type": "stream",
     "text": [
      "2025-02-23 17:32:47 - INFO - 5. Country with highest average visits per user...\n",
      "2025-02-23 17:32:47 - INFO - The country with highest average visits per user is: Japan\n"
     ]
    },
    {
     "name": "stdout",
     "output_type": "stream",
     "text": [
      "   country  avg_n_visits\n",
      "0    Japan      1.883721\n",
      "1    Italy      1.822581\n",
      "2  Germany      1.802817\n",
      "3   France      1.578947\n",
      "4      USA      1.508475\n",
      "5  Belgium      1.489796\n",
      "6    India      1.481481\n"
     ]
    }
   ],
   "source": [
    "logger.info(\"5. Country with highest average visits per user...\")\n",
    "user_visits = events_dedup.groupby('user_id')['session_counter'].max().reset_index(name=\"n_visits\")\n",
    "avg_visit_by_country = user_visits.merge(users_df, on=\"user_id\").groupby(\"country\")['n_visits'].mean().reset_index(name = 'avg_n_visits')\n",
    "avg_visit_by_country = avg_visit_by_country.sort_values(\"avg_n_visits\", ascending=False).reset_index(drop=True)\n",
    "print(avg_visit_by_country)\n",
    "logger.info(f\"The country with highest average visits per user is: {avg_visit_by_country.iloc[0]['country']}\")"
   ]
  },
  {
   "cell_type": "markdown",
   "metadata": {},
   "source": [
    "### Performer with most number of visits by each category"
   ]
  },
  {
   "cell_type": "code",
   "execution_count": 23,
   "metadata": {},
   "outputs": [
    {
     "name": "stderr",
     "output_type": "stream",
     "text": [
      "2025-02-23 17:33:23 - INFO - 6. Performer with most number of visits by each category...\n",
      "2025-02-23 17:33:23 - INFO - The performer with most number of visits by each category is: \n"
     ]
    },
    {
     "name": "stdout",
     "output_type": "stream",
     "text": [
      "  category  item_id  N_visits\n",
      "0    dance      131       173\n",
      "1       dj        7       173\n",
      "2    flirt      155       170\n"
     ]
    }
   ],
   "source": [
    "logger.info(\"6. Performer with most number of visits by each category...\")\n",
    "top_performers = events_dedup.merge(items_df, on=\"item_id\").groupby(['category','item_id'])['item_id'].count().reset_index(name=\"N_visits\")\n",
    "top_performers = top_performers.sort_values('N_visits', ascending=False).groupby('category').head(1).reset_index(drop=True)\n",
    "logger.info(f\"The performer with most number of visits by each category is: \")\n",
    "print(top_performers)"
   ]
  },
  {
   "cell_type": "markdown",
   "metadata": {},
   "source": [
    "### Model Training\n"
   ]
  },
  {
   "cell_type": "code",
   "execution_count": 26,
   "metadata": {},
   "outputs": [
    {
     "name": "stderr",
     "output_type": "stream",
     "text": [
      "2025-02-23 18:12:50 - INFO - 7. Average number of sessions per day...\n",
      "2025-02-23 18:12:50 - INFO - Average number of sessions per day: 51.57\n"
     ]
    },
    {
     "name": "stdout",
     "output_type": "stream",
     "text": [
      "\n",
      "Daily sessions breakdown:\n",
      "          date  num_sessions\n",
      "0   2020-12-09            59\n",
      "1   2020-12-10            94\n",
      "2   2020-12-11           120\n",
      "3   2020-12-12           121\n",
      "4   2020-12-13            96\n",
      "5   2020-12-14           102\n",
      "6   2020-12-15            82\n",
      "7   2020-12-16            63\n",
      "8   2020-12-17            78\n",
      "9   2020-12-18            61\n",
      "10  2020-12-19            46\n",
      "11  2020-12-20            39\n",
      "12  2020-12-21            36\n",
      "13  2020-12-22            38\n",
      "14  2020-12-23            11\n",
      "15  2020-12-24            15\n",
      "16  2020-12-25             7\n",
      "17  2020-12-26             9\n",
      "18  2020-12-27             3\n",
      "19  2020-12-28             2\n",
      "20  2020-12-29             1\n"
     ]
    }
   ],
   "source": [
    "# Calculate average sessions per day\n",
    "daily_sessions = events_dedup.groupby(events_dedup['datetime'].dt.date)['session_id'].nunique().reset_index()\n",
    "daily_sessions.columns = ['date', 'num_sessions'] \n",
    "avg_sessions_per_day = daily_sessions['num_sessions'].mean()\n",
    "\n",
    "logger.info(\"7. Average number of sessions per day...\")\n",
    "logger.info(f\"Average number of sessions per day: {avg_sessions_per_day:.2f}\")\n",
    "print(\"\\nDaily sessions breakdown:\")\n",
    "print(daily_sessions)\n"
   ]
  },
  {
   "cell_type": "markdown",
   "metadata": {},
   "source": [
    "the data given is observed from 2020-12-09 to 2020-12-29.\n",
    "\n",
    "lets consider records until 2020-12-24 for training model and test on the last 5 days for the model performance\n"
   ]
  },
  {
   "cell_type": "code",
   "execution_count": 28,
   "metadata": {},
   "outputs": [],
   "source": [
    "from itertools import combinations\n",
    "from collections import defaultdict"
   ]
  },
  {
   "cell_type": "code",
   "execution_count": 29,
   "metadata": {},
   "outputs": [
    {
     "data": {
      "text/html": [
       "<div>\n",
       "<style scoped>\n",
       "    .dataframe tbody tr th:only-of-type {\n",
       "        vertical-align: middle;\n",
       "    }\n",
       "\n",
       "    .dataframe tbody tr th {\n",
       "        vertical-align: top;\n",
       "    }\n",
       "\n",
       "    .dataframe thead th {\n",
       "        text-align: right;\n",
       "    }\n",
       "</style>\n",
       "<table border=\"1\" class=\"dataframe\">\n",
       "  <thead>\n",
       "    <tr style=\"text-align: right;\">\n",
       "      <th></th>\n",
       "      <th>3</th>\n",
       "      <th>138</th>\n",
       "      <th>141</th>\n",
       "      <th>14</th>\n",
       "      <th>143</th>\n",
       "      <th>151</th>\n",
       "      <th>26</th>\n",
       "      <th>29</th>\n",
       "      <th>34</th>\n",
       "      <th>38</th>\n",
       "      <th>...</th>\n",
       "      <th>24</th>\n",
       "      <th>108</th>\n",
       "      <th>22</th>\n",
       "      <th>142</th>\n",
       "      <th>18</th>\n",
       "      <th>189</th>\n",
       "      <th>107</th>\n",
       "      <th>1</th>\n",
       "      <th>43</th>\n",
       "      <th>74</th>\n",
       "    </tr>\n",
       "  </thead>\n",
       "  <tbody>\n",
       "    <tr>\n",
       "      <th>138</th>\n",
       "      <td>3.0</td>\n",
       "      <td>0.0</td>\n",
       "      <td>3.0</td>\n",
       "      <td>6.0</td>\n",
       "      <td>3.0</td>\n",
       "      <td>2.0</td>\n",
       "      <td>5.0</td>\n",
       "      <td>4.0</td>\n",
       "      <td>1.0</td>\n",
       "      <td>2.0</td>\n",
       "      <td>...</td>\n",
       "      <td>2.0</td>\n",
       "      <td>2.0</td>\n",
       "      <td>0.0</td>\n",
       "      <td>1.0</td>\n",
       "      <td>1.0</td>\n",
       "      <td>2.0</td>\n",
       "      <td>1.0</td>\n",
       "      <td>1.0</td>\n",
       "      <td>0.0</td>\n",
       "      <td>2.0</td>\n",
       "    </tr>\n",
       "    <tr>\n",
       "      <th>141</th>\n",
       "      <td>6.0</td>\n",
       "      <td>3.0</td>\n",
       "      <td>0.0</td>\n",
       "      <td>4.0</td>\n",
       "      <td>4.0</td>\n",
       "      <td>9.0</td>\n",
       "      <td>9.0</td>\n",
       "      <td>4.0</td>\n",
       "      <td>3.0</td>\n",
       "      <td>6.0</td>\n",
       "      <td>...</td>\n",
       "      <td>4.0</td>\n",
       "      <td>1.0</td>\n",
       "      <td>2.0</td>\n",
       "      <td>3.0</td>\n",
       "      <td>4.0</td>\n",
       "      <td>3.0</td>\n",
       "      <td>2.0</td>\n",
       "      <td>4.0</td>\n",
       "      <td>3.0</td>\n",
       "      <td>4.0</td>\n",
       "    </tr>\n",
       "    <tr>\n",
       "      <th>14</th>\n",
       "      <td>3.0</td>\n",
       "      <td>6.0</td>\n",
       "      <td>4.0</td>\n",
       "      <td>0.0</td>\n",
       "      <td>6.0</td>\n",
       "      <td>10.0</td>\n",
       "      <td>11.0</td>\n",
       "      <td>1.0</td>\n",
       "      <td>8.0</td>\n",
       "      <td>4.0</td>\n",
       "      <td>...</td>\n",
       "      <td>6.0</td>\n",
       "      <td>3.0</td>\n",
       "      <td>1.0</td>\n",
       "      <td>3.0</td>\n",
       "      <td>6.0</td>\n",
       "      <td>4.0</td>\n",
       "      <td>4.0</td>\n",
       "      <td>3.0</td>\n",
       "      <td>1.0</td>\n",
       "      <td>2.0</td>\n",
       "    </tr>\n",
       "    <tr>\n",
       "      <th>143</th>\n",
       "      <td>5.0</td>\n",
       "      <td>3.0</td>\n",
       "      <td>4.0</td>\n",
       "      <td>6.0</td>\n",
       "      <td>0.0</td>\n",
       "      <td>6.0</td>\n",
       "      <td>5.0</td>\n",
       "      <td>3.0</td>\n",
       "      <td>5.0</td>\n",
       "      <td>4.0</td>\n",
       "      <td>...</td>\n",
       "      <td>5.0</td>\n",
       "      <td>4.0</td>\n",
       "      <td>2.0</td>\n",
       "      <td>4.0</td>\n",
       "      <td>11.0</td>\n",
       "      <td>4.0</td>\n",
       "      <td>1.0</td>\n",
       "      <td>3.0</td>\n",
       "      <td>2.0</td>\n",
       "      <td>8.0</td>\n",
       "    </tr>\n",
       "    <tr>\n",
       "      <th>151</th>\n",
       "      <td>14.0</td>\n",
       "      <td>2.0</td>\n",
       "      <td>9.0</td>\n",
       "      <td>10.0</td>\n",
       "      <td>6.0</td>\n",
       "      <td>0.0</td>\n",
       "      <td>20.0</td>\n",
       "      <td>10.0</td>\n",
       "      <td>11.0</td>\n",
       "      <td>12.0</td>\n",
       "      <td>...</td>\n",
       "      <td>16.0</td>\n",
       "      <td>7.0</td>\n",
       "      <td>6.0</td>\n",
       "      <td>9.0</td>\n",
       "      <td>12.0</td>\n",
       "      <td>6.0</td>\n",
       "      <td>4.0</td>\n",
       "      <td>3.0</td>\n",
       "      <td>6.0</td>\n",
       "      <td>5.0</td>\n",
       "    </tr>\n",
       "    <tr>\n",
       "      <th>...</th>\n",
       "      <td>...</td>\n",
       "      <td>...</td>\n",
       "      <td>...</td>\n",
       "      <td>...</td>\n",
       "      <td>...</td>\n",
       "      <td>...</td>\n",
       "      <td>...</td>\n",
       "      <td>...</td>\n",
       "      <td>...</td>\n",
       "      <td>...</td>\n",
       "      <td>...</td>\n",
       "      <td>...</td>\n",
       "      <td>...</td>\n",
       "      <td>...</td>\n",
       "      <td>...</td>\n",
       "      <td>...</td>\n",
       "      <td>...</td>\n",
       "      <td>...</td>\n",
       "      <td>...</td>\n",
       "      <td>...</td>\n",
       "      <td>...</td>\n",
       "    </tr>\n",
       "    <tr>\n",
       "      <th>81</th>\n",
       "      <td>1.0</td>\n",
       "      <td>5.0</td>\n",
       "      <td>4.0</td>\n",
       "      <td>4.0</td>\n",
       "      <td>0.0</td>\n",
       "      <td>8.0</td>\n",
       "      <td>5.0</td>\n",
       "      <td>4.0</td>\n",
       "      <td>2.0</td>\n",
       "      <td>4.0</td>\n",
       "      <td>...</td>\n",
       "      <td>1.0</td>\n",
       "      <td>2.0</td>\n",
       "      <td>0.0</td>\n",
       "      <td>1.0</td>\n",
       "      <td>3.0</td>\n",
       "      <td>0.0</td>\n",
       "      <td>4.0</td>\n",
       "      <td>1.0</td>\n",
       "      <td>0.0</td>\n",
       "      <td>2.0</td>\n",
       "    </tr>\n",
       "    <tr>\n",
       "      <th>3</th>\n",
       "      <td>0.0</td>\n",
       "      <td>3.0</td>\n",
       "      <td>6.0</td>\n",
       "      <td>3.0</td>\n",
       "      <td>5.0</td>\n",
       "      <td>14.0</td>\n",
       "      <td>9.0</td>\n",
       "      <td>7.0</td>\n",
       "      <td>10.0</td>\n",
       "      <td>8.0</td>\n",
       "      <td>...</td>\n",
       "      <td>10.0</td>\n",
       "      <td>6.0</td>\n",
       "      <td>8.0</td>\n",
       "      <td>5.0</td>\n",
       "      <td>11.0</td>\n",
       "      <td>5.0</td>\n",
       "      <td>5.0</td>\n",
       "      <td>3.0</td>\n",
       "      <td>4.0</td>\n",
       "      <td>5.0</td>\n",
       "    </tr>\n",
       "    <tr>\n",
       "      <th>17</th>\n",
       "      <td>0.0</td>\n",
       "      <td>2.0</td>\n",
       "      <td>3.0</td>\n",
       "      <td>2.0</td>\n",
       "      <td>6.0</td>\n",
       "      <td>5.0</td>\n",
       "      <td>3.0</td>\n",
       "      <td>6.0</td>\n",
       "      <td>1.0</td>\n",
       "      <td>5.0</td>\n",
       "      <td>...</td>\n",
       "      <td>3.0</td>\n",
       "      <td>1.0</td>\n",
       "      <td>1.0</td>\n",
       "      <td>2.0</td>\n",
       "      <td>5.0</td>\n",
       "      <td>3.0</td>\n",
       "      <td>1.0</td>\n",
       "      <td>2.0</td>\n",
       "      <td>2.0</td>\n",
       "      <td>1.0</td>\n",
       "    </tr>\n",
       "    <tr>\n",
       "      <th>78</th>\n",
       "      <td>0.0</td>\n",
       "      <td>3.0</td>\n",
       "      <td>4.0</td>\n",
       "      <td>2.0</td>\n",
       "      <td>4.0</td>\n",
       "      <td>9.0</td>\n",
       "      <td>1.0</td>\n",
       "      <td>3.0</td>\n",
       "      <td>2.0</td>\n",
       "      <td>4.0</td>\n",
       "      <td>...</td>\n",
       "      <td>2.0</td>\n",
       "      <td>3.0</td>\n",
       "      <td>3.0</td>\n",
       "      <td>4.0</td>\n",
       "      <td>1.0</td>\n",
       "      <td>2.0</td>\n",
       "      <td>1.0</td>\n",
       "      <td>2.0</td>\n",
       "      <td>2.0</td>\n",
       "      <td>0.0</td>\n",
       "    </tr>\n",
       "    <tr>\n",
       "      <th>23</th>\n",
       "      <td>0.0</td>\n",
       "      <td>0.0</td>\n",
       "      <td>1.0</td>\n",
       "      <td>2.0</td>\n",
       "      <td>2.0</td>\n",
       "      <td>8.0</td>\n",
       "      <td>3.0</td>\n",
       "      <td>2.0</td>\n",
       "      <td>1.0</td>\n",
       "      <td>3.0</td>\n",
       "      <td>...</td>\n",
       "      <td>2.0</td>\n",
       "      <td>2.0</td>\n",
       "      <td>0.0</td>\n",
       "      <td>3.0</td>\n",
       "      <td>2.0</td>\n",
       "      <td>0.0</td>\n",
       "      <td>1.0</td>\n",
       "      <td>1.0</td>\n",
       "      <td>2.0</td>\n",
       "      <td>0.0</td>\n",
       "    </tr>\n",
       "  </tbody>\n",
       "</table>\n",
       "<p>200 rows × 200 columns</p>\n",
       "</div>"
      ],
      "text/plain": [
       "      3    138  141   14   143   151   26    29    34    38   ...   24   108  \\\n",
       "138   3.0  0.0  3.0   6.0  3.0   2.0   5.0   4.0   1.0   2.0  ...   2.0  2.0   \n",
       "141   6.0  3.0  0.0   4.0  4.0   9.0   9.0   4.0   3.0   6.0  ...   4.0  1.0   \n",
       "14    3.0  6.0  4.0   0.0  6.0  10.0  11.0   1.0   8.0   4.0  ...   6.0  3.0   \n",
       "143   5.0  3.0  4.0   6.0  0.0   6.0   5.0   3.0   5.0   4.0  ...   5.0  4.0   \n",
       "151  14.0  2.0  9.0  10.0  6.0   0.0  20.0  10.0  11.0  12.0  ...  16.0  7.0   \n",
       "..    ...  ...  ...   ...  ...   ...   ...   ...   ...   ...  ...   ...  ...   \n",
       "81    1.0  5.0  4.0   4.0  0.0   8.0   5.0   4.0   2.0   4.0  ...   1.0  2.0   \n",
       "3     0.0  3.0  6.0   3.0  5.0  14.0   9.0   7.0  10.0   8.0  ...  10.0  6.0   \n",
       "17    0.0  2.0  3.0   2.0  6.0   5.0   3.0   6.0   1.0   5.0  ...   3.0  1.0   \n",
       "78    0.0  3.0  4.0   2.0  4.0   9.0   1.0   3.0   2.0   4.0  ...   2.0  3.0   \n",
       "23    0.0  0.0  1.0   2.0  2.0   8.0   3.0   2.0   1.0   3.0  ...   2.0  2.0   \n",
       "\n",
       "     22   142   18   189  107  1    43   74   \n",
       "138  0.0  1.0   1.0  2.0  1.0  1.0  0.0  2.0  \n",
       "141  2.0  3.0   4.0  3.0  2.0  4.0  3.0  4.0  \n",
       "14   1.0  3.0   6.0  4.0  4.0  3.0  1.0  2.0  \n",
       "143  2.0  4.0  11.0  4.0  1.0  3.0  2.0  8.0  \n",
       "151  6.0  9.0  12.0  6.0  4.0  3.0  6.0  5.0  \n",
       "..   ...  ...   ...  ...  ...  ...  ...  ...  \n",
       "81   0.0  1.0   3.0  0.0  4.0  1.0  0.0  2.0  \n",
       "3    8.0  5.0  11.0  5.0  5.0  3.0  4.0  5.0  \n",
       "17   1.0  2.0   5.0  3.0  1.0  2.0  2.0  1.0  \n",
       "78   3.0  4.0   1.0  2.0  1.0  2.0  2.0  0.0  \n",
       "23   0.0  3.0   2.0  0.0  1.0  1.0  2.0  0.0  \n",
       "\n",
       "[200 rows x 200 columns]"
      ]
     },
     "execution_count": 29,
     "metadata": {},
     "output_type": "execute_result"
    }
   ],
   "source": [
    "training_data = events_dedup[events_dedup['datetime'] < '2020-12-24']\n",
    "session_train = training_data.groupby('session_id')['item_id'].apply(list)\n",
    "\n",
    "# Create co-occurrence matrix\n",
    "co_occurrence = defaultdict(lambda: defaultdict(int))\n",
    "for items in session_train:\n",
    "    for item1, item2 in combinations(set(items), 2):  # Get unique pairs of items\n",
    "        co_occurrence[item1][item2] += 1\n",
    "        co_occurrence[item2][item1] += 1\n",
    "\n",
    "# Convert to DataFrame for easier manipulation\n",
    "co_occurrence_df = pd.DataFrame(co_occurrence).fillna(0)\n",
    "co_occurrence_df"
   ]
  },
  {
   "cell_type": "code",
   "execution_count": 30,
   "metadata": {},
   "outputs": [],
   "source": [
    "# Normalize co-occurrence matrix to compute similarity scores\n",
    "similarity_matrix = co_occurrence_df.copy()\n",
    "for item in similarity_matrix.columns:\n",
    "    norm_factor = np.sqrt(similarity_matrix[item].sum())\n",
    "    similarity_matrix[item] /= norm_factor"
   ]
  },
  {
   "cell_type": "code",
   "execution_count": 31,
   "metadata": {},
   "outputs": [
    {
     "data": {
      "text/plain": [
       "session_id\n",
       "156-4    [31, 156, 46, 161, 197, 193, 131, 84, 124, 61,...\n",
       "163-3    [3, 182, 91, 92, 147, 132, 90, 112, 83, 58, 12...\n",
       "166-3    [10, 126, 25, 91, 7, 167, 45, 171, 123, 8, 31,...\n",
       "174-2                          [186, 3, 41, 7, 70, 9, 119]\n",
       "177-4        [155, 122, 63, 173, 108, 77, 8, 167, 92, 117]\n",
       "177-5    [131, 96, 167, 168, 123, 196, 101, 71, 16, 98,...\n",
       "181-4    [127, 76, 5, 152, 7, 24, 72, 77, 56, 71, 69, 1...\n",
       "183-5                                [12, 44, 79, 132, 28]\n",
       "20-2     [66, 142, 33, 1, 160, 162, 171, 32, 65, 161, 1...\n",
       "20-3     [13, 56, 173, 21, 16, 176, 61, 143, 151, 167, ...\n",
       "226-5    [102, 163, 191, 123, 124, 139, 179, 169, 79, 1...\n",
       "234-2    [99, 64, 115, 28, 61, 19, 66, 155, 47, 180, 69...\n",
       "243-3    [30, 84, 13, 76, 49, 69, 155, 59, 193, 166, 94...\n",
       "253-3    [188, 21, 72, 127, 73, 160, 58, 3, 117, 91, 93...\n",
       "256-3               [150, 36, 101, 3, 155, 47, 93, 86, 77]\n",
       "272-3    [156, 41, 101, 66, 191, 7, 90, 81, 47, 164, 5,...\n",
       "28-3              [89, 188, 99, 194, 93, 173, 151, 171, 3]\n",
       "282-2              [21, 70, 198, 65, 77, 30, 102, 121, 96]\n",
       "291-3    [140, 21, 131, 198, 25, 68, 96, 125, 156, 84, ...\n",
       "34-6     [52, 2, 197, 166, 91, 102, 109, 177, 66, 46, 1...\n",
       "346-4    [142, 123, 20, 90, 112, 136, 50, 180, 199, 0, ...\n",
       "350-4    [116, 75, 104, 167, 25, 145, 134, 198, 196, 10...\n",
       "359-3    [152, 84, 95, 129, 111, 125, 166, 42, 61, 88, ...\n",
       "386-2    [29, 149, 199, 76, 5, 81, 125, 184, 119, 171, ...\n",
       "397-2    [45, 61, 41, 39, 30, 18, 49, 43, 13, 8, 140, 1...\n",
       "402-5         [183, 2, 181, 168, 145, 166, 72, 69, 19, 57]\n",
       "417-3    [89, 155, 9, 15, 137, 64, 151, 115, 101, 119, ...\n",
       "464-4                               [154, 119, 141, 2, 26]\n",
       "473-4    [197, 136, 193, 4, 139, 83, 155, 62, 122, 187,...\n",
       "49-3               [14, 171, 96, 48, 158, 63, 145, 20, 89]\n",
       "55-2                       [84, 162, 160, 155, 86, 175, 3]\n",
       "60-2     [137, 91, 53, 190, 156, 115, 174, 199, 131, 67...\n",
       "81-6     [125, 86, 122, 96, 70, 120, 46, 156, 4, 116, 1...\n",
       "87-4      [145, 101, 11, 53, 69, 20, 54, 61, 99, 148, 150]\n",
       "Name: item_id, dtype: object"
      ]
     },
     "execution_count": 31,
     "metadata": {},
     "output_type": "execute_result"
    }
   ],
   "source": [
    "#  Test data:\n",
    "test_data = events_dedup[events_dedup['datetime'] >= '2020-12-24']\n",
    "session_test = test_data.groupby('session_id')['item_id'].apply(list)\n",
    "session_test"
   ]
  },
  {
   "cell_type": "code",
   "execution_count": 37,
   "metadata": {},
   "outputs": [],
   "source": [
    "def recommend_items(input_items, similarity_matrix, top_n=5):\n",
    "    # Initialize scores dictionary\n",
    "    scores = defaultdict(float)\n",
    "    \n",
    "    # For each candidate item (all items in the similarity matrix)\n",
    "    for candidate_item in similarity_matrix.columns:\n",
    "        if candidate_item not in input_items:  # Exclude input items\n",
    "            # Calculate the total co-occurrence score with all input items\n",
    "            total_score = 0\n",
    "            for input_item in input_items:\n",
    "                if input_item in similarity_matrix.columns:\n",
    "                    # Add the similarity score between input_item and candidate_item\n",
    "                    total_score += similarity_matrix.loc[candidate_item, input_item]\n",
    "            \n",
    "            # Store the total score for this candidate item\n",
    "            scores[candidate_item] = total_score\n",
    "    \n",
    "    # Sort by aggregated scores and return top N recommendations\n",
    "    sorted_scores = sorted(scores.items(), key=lambda x: x[1], reverse=True)\n",
    "    return [item for item, score in sorted_scores[:top_n]]"
   ]
  },
  {
   "cell_type": "markdown",
   "metadata": {},
   "source": [
    "Lets take a few sessions from the test data and randomly select a combination of 3 items and see the recommendations and check with the rest of the events of the same session"
   ]
  },
  {
   "cell_type": "code",
   "execution_count": 47,
   "metadata": {},
   "outputs": [
    {
     "name": "stdout",
     "output_type": "stream",
     "text": [
      "Recommended Items: [99, 101, 155, 15, 171]\n"
     ]
    }
   ],
   "source": [
    "# Example usage\n",
    "input_items = [164, 69, 132]  # Items consumed in the current session\n",
    "recommendations = recommend_items(input_items, similarity_matrix)\n",
    "print(\"Recommended Items:\", recommendations)"
   ]
  },
  {
   "cell_type": "code",
   "execution_count": 36,
   "metadata": {},
   "outputs": [
    {
     "name": "stdout",
     "output_type": "stream",
     "text": [
      "[89, 155, 9, 15, 137, 64, 151, 115, 101, 119, 162, 7, 82, 11, 26, 71, 122, 164, 69, 132, 88, 59]\n"
     ]
    }
   ],
   "source": [
    "print(session_test['417-3'])"
   ]
  },
  {
   "cell_type": "code",
   "execution_count": null,
   "metadata": {},
   "outputs": [],
   "source": [
    "464-4                               [154, 119, 141, 2, 26]"
   ]
  },
  {
   "cell_type": "markdown",
   "metadata": {},
   "source": [
    "### Weighter recommendations"
   ]
  },
  {
   "cell_type": "code",
   "execution_count": 41,
   "metadata": {},
   "outputs": [],
   "source": [
    "# Step 1: Calculate N_visits per item\n",
    "item_visits = training_data['item_id'].value_counts().reset_index(name='N_visits')\n",
    "# item_visits.columns = ['item_id', 'N_visits']\n",
    "\n",
    "# Step 2: Merge with items dataset to get category and N_visits\n",
    "items_with_weights = items_df.merge(item_visits, on='item_id', how='left')\n",
    "\n",
    "# Step 3: Create weight mapping (example using N_visits)\n",
    "# Normalize N_visits to get weights between 0 and 1\n",
    "items_with_weights['weight'] = items_with_weights['N_visits'] / items_with_weights['N_visits'].max()\n",
    "\n",
    "# Alternatively, if using category weights:\n",
    "category_weights = {'dance': 1.2, 'flirt': 1.0, 'dj': 1.4}\n",
    "items_with_weights['weight'] = items_with_weights['category'].map(category_weights)\n",
    "\n",
    "# Step 4: Create a weight dictionary for quick lookup\n",
    "weight_dict = dict(zip(items_with_weights['item_id'], items_with_weights['weight']))\n",
    "\n",
    "# Step 5: Modify co-occurrence matrix creation to include weights\n",
    "co_occurrence_weighted = defaultdict(lambda: defaultdict(float))  # Use float for weighted counts\n",
    "\n",
    "for items_in_session in session_train:\n",
    "    unique_items = set(items_in_session)\n",
    "    for item1, item2 in combinations(unique_items, 2):\n",
    "        # Get weights for both items\n",
    "        weight1 = weight_dict.get(item1, 1.0)  # Default to 1.0 if weight not found\n",
    "        weight2 = weight_dict.get(item2, 1.0)\n",
    "        \n",
    "        # Calculate weighted co-occurrence\n",
    "        weighted_count = (weight1 + weight2) / 2  # Average of both weights\n",
    "        \n",
    "        # Update co-occurrence matrix\n",
    "        co_occurrence_weighted[item1][item2] += weighted_count\n",
    "        co_occurrence_weighted[item2][item1] += weighted_count\n",
    "\n",
    "# Convert to DataFrame\n",
    "co_occurrence_weighted_df = pd.DataFrame(co_occurrence_weighted).fillna(0)"
   ]
  },
  {
   "cell_type": "code",
   "execution_count": 42,
   "metadata": {},
   "outputs": [],
   "source": [
    "# Normalize co-occurrence matrix to compute similarity scores\n",
    "w_similarity_matrix = co_occurrence_weighted_df.copy()\n",
    "for item in w_similarity_matrix.columns:\n",
    "    norm_factor = np.sqrt(w_similarity_matrix[item].sum())\n",
    "    w_similarity_matrix[item] /= norm_factor"
   ]
  },
  {
   "cell_type": "code",
   "execution_count": 46,
   "metadata": {},
   "outputs": [
    {
     "name": "stdout",
     "output_type": "stream",
     "text": [
      "Recommended Items: [99, 101, 15, 7, 131]\n"
     ]
    }
   ],
   "source": [
    "# Example usage\n",
    "input_items = [164, 69, 132] \n",
    "recommendations = recommend_items(input_items, w_similarity_matrix)\n",
    "print(\"Recommended Items:\", recommendations)"
   ]
  },
  {
   "cell_type": "code",
   "execution_count": 43,
   "metadata": {},
   "outputs": [
    {
     "name": "stdout",
     "output_type": "stream",
     "text": [
      "[89, 155, 9, 15, 137, 64, 151, 115, 101, 119, 162, 7, 82, 11, 26, 71, 122, 164, 69, 132, 88, 59]\n"
     ]
    }
   ],
   "source": [
    "print(session_test['417-3'])"
   ]
  },
  {
   "cell_type": "code",
   "execution_count": null,
   "metadata": {},
   "outputs": [],
   "source": []
  }
 ],
 "metadata": {
  "kernelspec": {
   "display_name": ".venv",
   "language": "python",
   "name": "python3"
  },
  "language_info": {
   "codemirror_mode": {
    "name": "ipython",
    "version": 3
   },
   "file_extension": ".py",
   "mimetype": "text/x-python",
   "name": "python",
   "nbconvert_exporter": "python",
   "pygments_lexer": "ipython3",
   "version": "3.12.6"
  }
 },
 "nbformat": 4,
 "nbformat_minor": 2
}
